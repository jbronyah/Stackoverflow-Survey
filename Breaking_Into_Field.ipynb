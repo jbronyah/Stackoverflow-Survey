{
 "cells": [
  {
   "cell_type": "markdown",
   "metadata": {},
   "source": [
    "### Breaking into the field\n",
    "\n",
    "In this notebook we want to determine the best way one can break into the field of Computer Sceince.\n",
    "Another question of interest we want to answer is whether a Master's degree or higher is required to break into the  field"
   ]
  },
  {
   "cell_type": "code",
   "execution_count": 1,
   "metadata": {},
   "outputs": [
    {
     "name": "stderr",
     "output_type": "stream",
     "text": [
      "C:\\Users\\BronyahJ\\AppData\\Local\\Continuum\\anaconda3\\lib\\site-packages\\statsmodels\\tools\\_testing.py:19: FutureWarning: pandas.util.testing is deprecated. Use the functions in the public API at pandas.testing instead.\n",
      "  import pandas.util.testing as tm\n"
     ]
    }
   ],
   "source": [
    "import pandas as pd\n",
    "import numpy as np\n",
    "import matplotlib.pyplot as plt\n",
    "import seaborn as sns\n",
    "from collections import Counter\n",
    "from collections import defaultdict\n",
    "%matplotlib inline"
   ]
  },
  {
   "cell_type": "code",
   "execution_count": 2,
   "metadata": {},
   "outputs": [],
   "source": [
    "df = pd.read_csv('./survey_results_public.csv')     # load survey results data\n",
    "schema = pd.read_csv('./survey_results_schema.csv') # load survey data schema"
   ]
  },
  {
   "cell_type": "code",
   "execution_count": 3,
   "metadata": {},
   "outputs": [
    {
     "data": {
      "text/html": [
       "<div>\n",
       "<style scoped>\n",
       "    .dataframe tbody tr th:only-of-type {\n",
       "        vertical-align: middle;\n",
       "    }\n",
       "\n",
       "    .dataframe tbody tr th {\n",
       "        vertical-align: top;\n",
       "    }\n",
       "\n",
       "    .dataframe thead th {\n",
       "        text-align: right;\n",
       "    }\n",
       "</style>\n",
       "<table border=\"1\" class=\"dataframe\">\n",
       "  <thead>\n",
       "    <tr style=\"text-align: right;\">\n",
       "      <th></th>\n",
       "      <th>Respondent</th>\n",
       "      <th>Professional</th>\n",
       "      <th>ProgramHobby</th>\n",
       "      <th>Country</th>\n",
       "      <th>University</th>\n",
       "      <th>EmploymentStatus</th>\n",
       "      <th>FormalEducation</th>\n",
       "      <th>MajorUndergrad</th>\n",
       "      <th>HomeRemote</th>\n",
       "      <th>CompanySize</th>\n",
       "      <th>...</th>\n",
       "      <th>StackOverflowMakeMoney</th>\n",
       "      <th>Gender</th>\n",
       "      <th>HighestEducationParents</th>\n",
       "      <th>Race</th>\n",
       "      <th>SurveyLong</th>\n",
       "      <th>QuestionsInteresting</th>\n",
       "      <th>QuestionsConfusing</th>\n",
       "      <th>InterestedAnswers</th>\n",
       "      <th>Salary</th>\n",
       "      <th>ExpectedSalary</th>\n",
       "    </tr>\n",
       "  </thead>\n",
       "  <tbody>\n",
       "    <tr>\n",
       "      <th>0</th>\n",
       "      <td>1</td>\n",
       "      <td>Student</td>\n",
       "      <td>Yes, both</td>\n",
       "      <td>United States</td>\n",
       "      <td>No</td>\n",
       "      <td>Not employed, and not looking for work</td>\n",
       "      <td>Secondary school</td>\n",
       "      <td>NaN</td>\n",
       "      <td>NaN</td>\n",
       "      <td>NaN</td>\n",
       "      <td>...</td>\n",
       "      <td>Strongly disagree</td>\n",
       "      <td>Male</td>\n",
       "      <td>High school</td>\n",
       "      <td>White or of European descent</td>\n",
       "      <td>Strongly disagree</td>\n",
       "      <td>Strongly agree</td>\n",
       "      <td>Disagree</td>\n",
       "      <td>Strongly agree</td>\n",
       "      <td>NaN</td>\n",
       "      <td>NaN</td>\n",
       "    </tr>\n",
       "    <tr>\n",
       "      <th>1</th>\n",
       "      <td>2</td>\n",
       "      <td>Student</td>\n",
       "      <td>Yes, both</td>\n",
       "      <td>United Kingdom</td>\n",
       "      <td>Yes, full-time</td>\n",
       "      <td>Employed part-time</td>\n",
       "      <td>Some college/university study without earning ...</td>\n",
       "      <td>Computer science or software engineering</td>\n",
       "      <td>More than half, but not all, the time</td>\n",
       "      <td>20 to 99 employees</td>\n",
       "      <td>...</td>\n",
       "      <td>Strongly disagree</td>\n",
       "      <td>Male</td>\n",
       "      <td>A master's degree</td>\n",
       "      <td>White or of European descent</td>\n",
       "      <td>Somewhat agree</td>\n",
       "      <td>Somewhat agree</td>\n",
       "      <td>Disagree</td>\n",
       "      <td>Strongly agree</td>\n",
       "      <td>NaN</td>\n",
       "      <td>37500.0</td>\n",
       "    </tr>\n",
       "    <tr>\n",
       "      <th>2</th>\n",
       "      <td>3</td>\n",
       "      <td>Professional developer</td>\n",
       "      <td>Yes, both</td>\n",
       "      <td>United Kingdom</td>\n",
       "      <td>No</td>\n",
       "      <td>Employed full-time</td>\n",
       "      <td>Bachelor's degree</td>\n",
       "      <td>Computer science or software engineering</td>\n",
       "      <td>Less than half the time, but at least one day ...</td>\n",
       "      <td>10,000 or more employees</td>\n",
       "      <td>...</td>\n",
       "      <td>Disagree</td>\n",
       "      <td>Male</td>\n",
       "      <td>A professional degree</td>\n",
       "      <td>White or of European descent</td>\n",
       "      <td>Somewhat agree</td>\n",
       "      <td>Agree</td>\n",
       "      <td>Disagree</td>\n",
       "      <td>Agree</td>\n",
       "      <td>113750.0</td>\n",
       "      <td>NaN</td>\n",
       "    </tr>\n",
       "    <tr>\n",
       "      <th>3</th>\n",
       "      <td>4</td>\n",
       "      <td>Professional non-developer who sometimes write...</td>\n",
       "      <td>Yes, both</td>\n",
       "      <td>United States</td>\n",
       "      <td>No</td>\n",
       "      <td>Employed full-time</td>\n",
       "      <td>Doctoral degree</td>\n",
       "      <td>A non-computer-focused engineering discipline</td>\n",
       "      <td>Less than half the time, but at least one day ...</td>\n",
       "      <td>10,000 or more employees</td>\n",
       "      <td>...</td>\n",
       "      <td>Disagree</td>\n",
       "      <td>Male</td>\n",
       "      <td>A doctoral degree</td>\n",
       "      <td>White or of European descent</td>\n",
       "      <td>Agree</td>\n",
       "      <td>Agree</td>\n",
       "      <td>Somewhat agree</td>\n",
       "      <td>Strongly agree</td>\n",
       "      <td>NaN</td>\n",
       "      <td>NaN</td>\n",
       "    </tr>\n",
       "    <tr>\n",
       "      <th>4</th>\n",
       "      <td>5</td>\n",
       "      <td>Professional developer</td>\n",
       "      <td>Yes, I program as a hobby</td>\n",
       "      <td>Switzerland</td>\n",
       "      <td>No</td>\n",
       "      <td>Employed full-time</td>\n",
       "      <td>Master's degree</td>\n",
       "      <td>Computer science or software engineering</td>\n",
       "      <td>Never</td>\n",
       "      <td>10 to 19 employees</td>\n",
       "      <td>...</td>\n",
       "      <td>NaN</td>\n",
       "      <td>NaN</td>\n",
       "      <td>NaN</td>\n",
       "      <td>NaN</td>\n",
       "      <td>NaN</td>\n",
       "      <td>NaN</td>\n",
       "      <td>NaN</td>\n",
       "      <td>NaN</td>\n",
       "      <td>NaN</td>\n",
       "      <td>NaN</td>\n",
       "    </tr>\n",
       "  </tbody>\n",
       "</table>\n",
       "<p>5 rows × 154 columns</p>\n",
       "</div>"
      ],
      "text/plain": [
       "   Respondent                                       Professional  \\\n",
       "0           1                                            Student   \n",
       "1           2                                            Student   \n",
       "2           3                             Professional developer   \n",
       "3           4  Professional non-developer who sometimes write...   \n",
       "4           5                             Professional developer   \n",
       "\n",
       "                ProgramHobby         Country      University  \\\n",
       "0                  Yes, both   United States              No   \n",
       "1                  Yes, both  United Kingdom  Yes, full-time   \n",
       "2                  Yes, both  United Kingdom              No   \n",
       "3                  Yes, both   United States              No   \n",
       "4  Yes, I program as a hobby     Switzerland              No   \n",
       "\n",
       "                         EmploymentStatus  \\\n",
       "0  Not employed, and not looking for work   \n",
       "1                      Employed part-time   \n",
       "2                      Employed full-time   \n",
       "3                      Employed full-time   \n",
       "4                      Employed full-time   \n",
       "\n",
       "                                     FormalEducation  \\\n",
       "0                                   Secondary school   \n",
       "1  Some college/university study without earning ...   \n",
       "2                                  Bachelor's degree   \n",
       "3                                    Doctoral degree   \n",
       "4                                    Master's degree   \n",
       "\n",
       "                                  MajorUndergrad  \\\n",
       "0                                            NaN   \n",
       "1       Computer science or software engineering   \n",
       "2       Computer science or software engineering   \n",
       "3  A non-computer-focused engineering discipline   \n",
       "4       Computer science or software engineering   \n",
       "\n",
       "                                          HomeRemote  \\\n",
       "0                                                NaN   \n",
       "1              More than half, but not all, the time   \n",
       "2  Less than half the time, but at least one day ...   \n",
       "3  Less than half the time, but at least one day ...   \n",
       "4                                              Never   \n",
       "\n",
       "                CompanySize  ... StackOverflowMakeMoney Gender  \\\n",
       "0                       NaN  ...      Strongly disagree   Male   \n",
       "1        20 to 99 employees  ...      Strongly disagree   Male   \n",
       "2  10,000 or more employees  ...               Disagree   Male   \n",
       "3  10,000 or more employees  ...               Disagree   Male   \n",
       "4        10 to 19 employees  ...                    NaN    NaN   \n",
       "\n",
       "  HighestEducationParents                          Race         SurveyLong  \\\n",
       "0             High school  White or of European descent  Strongly disagree   \n",
       "1       A master's degree  White or of European descent     Somewhat agree   \n",
       "2   A professional degree  White or of European descent     Somewhat agree   \n",
       "3       A doctoral degree  White or of European descent              Agree   \n",
       "4                     NaN                           NaN                NaN   \n",
       "\n",
       "  QuestionsInteresting QuestionsConfusing InterestedAnswers    Salary  \\\n",
       "0       Strongly agree           Disagree    Strongly agree       NaN   \n",
       "1       Somewhat agree           Disagree    Strongly agree       NaN   \n",
       "2                Agree           Disagree             Agree  113750.0   \n",
       "3                Agree     Somewhat agree    Strongly agree       NaN   \n",
       "4                  NaN                NaN               NaN       NaN   \n",
       "\n",
       "   ExpectedSalary  \n",
       "0             NaN  \n",
       "1         37500.0  \n",
       "2             NaN  \n",
       "3             NaN  \n",
       "4             NaN  \n",
       "\n",
       "[5 rows x 154 columns]"
      ]
     },
     "execution_count": 3,
     "metadata": {},
     "output_type": "execute_result"
    }
   ],
   "source": [
    "df.head()"
   ]
  },
  {
   "cell_type": "code",
   "execution_count": 4,
   "metadata": {},
   "outputs": [
    {
     "data": {
      "text/html": [
       "<div>\n",
       "<style scoped>\n",
       "    .dataframe tbody tr th:only-of-type {\n",
       "        vertical-align: middle;\n",
       "    }\n",
       "\n",
       "    .dataframe tbody tr th {\n",
       "        vertical-align: top;\n",
       "    }\n",
       "\n",
       "    .dataframe thead th {\n",
       "        text-align: right;\n",
       "    }\n",
       "</style>\n",
       "<table border=\"1\" class=\"dataframe\">\n",
       "  <thead>\n",
       "    <tr style=\"text-align: right;\">\n",
       "      <th></th>\n",
       "      <th>Column</th>\n",
       "      <th>Question</th>\n",
       "    </tr>\n",
       "  </thead>\n",
       "  <tbody>\n",
       "    <tr>\n",
       "      <th>0</th>\n",
       "      <td>Respondent</td>\n",
       "      <td>Respondent ID number</td>\n",
       "    </tr>\n",
       "    <tr>\n",
       "      <th>1</th>\n",
       "      <td>Professional</td>\n",
       "      <td>Which of the following best describes you?</td>\n",
       "    </tr>\n",
       "    <tr>\n",
       "      <th>2</th>\n",
       "      <td>ProgramHobby</td>\n",
       "      <td>Do you program as a hobby or contribute to ope...</td>\n",
       "    </tr>\n",
       "    <tr>\n",
       "      <th>3</th>\n",
       "      <td>Country</td>\n",
       "      <td>In which country do you currently live?</td>\n",
       "    </tr>\n",
       "    <tr>\n",
       "      <th>4</th>\n",
       "      <td>University</td>\n",
       "      <td>Are you currently enrolled in a formal, degree...</td>\n",
       "    </tr>\n",
       "  </tbody>\n",
       "</table>\n",
       "</div>"
      ],
      "text/plain": [
       "         Column                                           Question\n",
       "0    Respondent                               Respondent ID number\n",
       "1  Professional         Which of the following best describes you?\n",
       "2  ProgramHobby  Do you program as a hobby or contribute to ope...\n",
       "3       Country            In which country do you currently live?\n",
       "4    University  Are you currently enrolled in a formal, degree..."
      ]
     },
     "execution_count": 4,
     "metadata": {},
     "output_type": "execute_result"
    }
   ],
   "source": [
    "schema.head()"
   ]
  },
  {
   "cell_type": "code",
   "execution_count": 5,
   "metadata": {},
   "outputs": [
    {
     "data": {
      "text/plain": [
       "[\"Let's pretend you have a distant cousin. They are 24 years old, have a college degree in a field not related to computer programming, and have been working a non-coding job for the last two years. They want your advice on how to switch to a career as a software developer. Which of the following options would you most strongly recommend to your cousin?\\nLet's pretend you have a distant cousin named Robert. He is 24 years old, has a college degree in a field not related to computer programming, and has been working a non-coding job for the last two years. He wants your advice on how to switch to a career as a software developer. Which of the following options would you most strongly recommend to Robert?\\nLet's pretend you have a distant cousin named Alice. She is 24 years old, has a college degree in a field not related to computer programming, and has been working a non-coding job for the last two years. She wants your advice on how to switch to a career as a software developer. Which of the following options would you most strongly recommend to Alice?\"]"
      ]
     },
     "execution_count": 5,
     "metadata": {},
     "output_type": "execute_result"
    }
   ],
   "source": [
    "list(schema[schema.Column=='CousinEducation']['Question']) #field of interest which best answers our question"
   ]
  },
  {
   "cell_type": "code",
   "execution_count": 6,
   "metadata": {},
   "outputs": [
    {
     "data": {
      "text/plain": [
       "0.5414072229140723"
      ]
     },
     "execution_count": 6,
     "metadata": {},
     "output_type": "execute_result"
    }
   ],
   "source": [
    "df['CousinEducation'].isnull().mean() # substantial amount of missing data but still useful insight nonetheless"
   ]
  },
  {
   "cell_type": "code",
   "execution_count": 7,
   "metadata": {},
   "outputs": [],
   "source": [
    "df_study = df['CousinEducation'].value_counts().reset_index()"
   ]
  },
  {
   "cell_type": "code",
   "execution_count": 8,
   "metadata": {},
   "outputs": [],
   "source": [
    "def get_possible_values(col_name):\n",
    "    \n",
    "    '''\n",
    "    INPUTS\n",
    "    \n",
    "    col_name - name of column in dataframe\n",
    "    \n",
    "    OUTPUTS\n",
    "    \n",
    "    values_list - String list of all entries in given series\n",
    "    \n",
    "    Description\n",
    "    \n",
    "    This function splits all values in all rows delimited by a semicolon and returns them as a string\n",
    "    \n",
    "    '''\n",
    "    \n",
    "    values = []\n",
    "    \n",
    "    column_split = df[col_name].dropna().apply(lambda x: x.split(';'))\n",
    "    \n",
    "    for row in column_split:\n",
    "        for val in row:\n",
    "            values.append(val.strip())\n",
    "    \n",
    "    values_list = list(set(values))\n",
    "    \n",
    "    return values_list"
   ]
  },
  {
   "cell_type": "code",
   "execution_count": 9,
   "metadata": {},
   "outputs": [],
   "source": [
    "ed_methods=get_possible_values('CousinEducation') # get all methods of breaking into the field"
   ]
  },
  {
   "cell_type": "code",
   "execution_count": 10,
   "metadata": {},
   "outputs": [],
   "source": [
    "def count_and_plot(df,col1,col2,values,plot=True):\n",
    "    \n",
    "    \n",
    "    '''\n",
    "    INPUTS\n",
    "    \n",
    "    df - dataframe to process\n",
    "    col1 - column name for data of interest\n",
    "    col2 - column name for data to be counted\n",
    "    values - list of all possible values in column of interest \n",
    "    plot - boolean whether to plot data\n",
    "    \n",
    "    \n",
    "    OUTPUTS\n",
    "    \n",
    "    df_perc - dataframe of computed percentages\n",
    "    \n",
    "    '''\n",
    "    \n",
    "    df_count = defaultdict(int)\n",
    "    \n",
    "    for val in values:\n",
    "        for idx in range(df.shape[0]):\n",
    "            if val in df[col1][idx]:\n",
    "                df_count[val] += int(df[col2][idx])\n",
    "    \n",
    "    df_count = pd.DataFrame(pd.Series(df_count)).reset_index()\n",
    "    df_count.columns = [col1,col2]\n",
    "    df_count.sort_values(col2, ascending=False, inplace=True)\n",
    "    df_count.set_index(col1, inplace=True)\n",
    "    \n",
    "    if plot:\n",
    "        (df_count/df_count.sum()).plot(kind=\"bar\", legend = None);\n",
    "        plt.title(col2);\n",
    "    \n",
    "    df_perc = df_count/df_count.sum()\n",
    "    \n",
    "    return df_perc\n",
    "    "
   ]
  },
  {
   "cell_type": "markdown",
   "metadata": {},
   "source": [
    "Taking Online Courses seems to be the best way to break into the field"
   ]
  },
  {
   "cell_type": "code",
   "execution_count": 11,
   "metadata": {},
   "outputs": [
    {
     "data": {
      "text/html": [
       "<div>\n",
       "<style scoped>\n",
       "    .dataframe tbody tr th:only-of-type {\n",
       "        vertical-align: middle;\n",
       "    }\n",
       "\n",
       "    .dataframe tbody tr th {\n",
       "        vertical-align: top;\n",
       "    }\n",
       "\n",
       "    .dataframe thead th {\n",
       "        text-align: right;\n",
       "    }\n",
       "</style>\n",
       "<table border=\"1\" class=\"dataframe\">\n",
       "  <thead>\n",
       "    <tr style=\"text-align: right;\">\n",
       "      <th></th>\n",
       "      <th>CousinEducation</th>\n",
       "    </tr>\n",
       "    <tr>\n",
       "      <th>index</th>\n",
       "      <th></th>\n",
       "    </tr>\n",
       "  </thead>\n",
       "  <tbody>\n",
       "    <tr>\n",
       "      <th>Take online courses</th>\n",
       "      <td>0.209432</td>\n",
       "    </tr>\n",
       "    <tr>\n",
       "      <th>Buy books and work through the exercises</th>\n",
       "      <td>0.161408</td>\n",
       "    </tr>\n",
       "    <tr>\n",
       "      <th>Part-time/evening courses</th>\n",
       "      <td>0.103260</td>\n",
       "    </tr>\n",
       "    <tr>\n",
       "      <th>Contribute to open source</th>\n",
       "      <td>0.101968</td>\n",
       "    </tr>\n",
       "    <tr>\n",
       "      <th>Bootcamp</th>\n",
       "      <td>0.072476</td>\n",
       "    </tr>\n",
       "    <tr>\n",
       "      <th>Conferences/meet-ups</th>\n",
       "      <td>0.072036</td>\n",
       "    </tr>\n",
       "    <tr>\n",
       "      <th>Return to college</th>\n",
       "      <td>0.068918</td>\n",
       "    </tr>\n",
       "    <tr>\n",
       "      <th>Participate in online coding competitions</th>\n",
       "      <td>0.049590</td>\n",
       "    </tr>\n",
       "    <tr>\n",
       "      <th>Get a job as a QA tester</th>\n",
       "      <td>0.046376</td>\n",
       "    </tr>\n",
       "    <tr>\n",
       "      <th>Participate in hackathons</th>\n",
       "      <td>0.037735</td>\n",
       "    </tr>\n",
       "    <tr>\n",
       "      <th>Master's degree</th>\n",
       "      <td>0.036251</td>\n",
       "    </tr>\n",
       "    <tr>\n",
       "      <th>Other</th>\n",
       "      <td>0.032254</td>\n",
       "    </tr>\n",
       "    <tr>\n",
       "      <th>None of these</th>\n",
       "      <td>0.008297</td>\n",
       "    </tr>\n",
       "  </tbody>\n",
       "</table>\n",
       "</div>"
      ],
      "text/plain": [
       "                                           CousinEducation\n",
       "index                                                     \n",
       "Take online courses                               0.209432\n",
       "Buy books and work through the exercises          0.161408\n",
       "Part-time/evening courses                         0.103260\n",
       "Contribute to open source                         0.101968\n",
       "Bootcamp                                          0.072476\n",
       "Conferences/meet-ups                              0.072036\n",
       "Return to college                                 0.068918\n",
       "Participate in online coding competitions         0.049590\n",
       "Get a job as a QA tester                          0.046376\n",
       "Participate in hackathons                         0.037735\n",
       "Master's degree                                   0.036251\n",
       "Other                                             0.032254\n",
       "None of these                                     0.008297"
      ]
     },
     "execution_count": 11,
     "metadata": {},
     "output_type": "execute_result"
    },
    {
     "data": {
      "image/png": "[encoded data removed]",
      "text/plain": [
       "<Figure size 432x288 with 1 Axes>"
      ]
     },
     "metadata": {
      "needs_background": "light"
     },
     "output_type": "display_data"
    }
   ],
   "source": [
    "count_and_plot(df_study,'index','CousinEducation',ed_methods)"
   ]
  },
  {
   "cell_type": "markdown",
   "metadata": {},
   "source": [
    "We want to answer the 2nd question of whether a master's degree is required to break into the field\n",
    "From the above chart about 3% suggested getting a master's degree"
   ]
  },
  {
   "cell_type": "code",
   "execution_count": 19,
   "metadata": {},
   "outputs": [
    {
     "data": {
      "text/plain": [
       "[\"Which of the following best describes the highest level of formal education that you've completed?\"]"
      ]
     },
     "execution_count": 19,
     "metadata": {},
     "output_type": "execute_result"
    }
   ],
   "source": [
    "list(schema[schema.Column=='FormalEducation']['Question'])"
   ]
  },
  {
   "cell_type": "code",
   "execution_count": 12,
   "metadata": {},
   "outputs": [
    {
     "data": {
      "text/plain": [
       "Bachelor's degree                                                    0.420474\n",
       "Master's degree                                                      0.216785\n",
       "Some college/university study without earning a bachelor's degree    0.158176\n",
       "Secondary school                                                     0.114960\n",
       "Doctoral degree                                                      0.025451\n",
       "I prefer not to answer                                               0.021579\n",
       "Primary/elementary school                                            0.020373\n",
       "Professional degree                                                  0.013913\n",
       "I never completed any formal education                               0.008289\n",
       "Name: FormalEducation, dtype: float64"
      ]
     },
     "execution_count": 12,
     "metadata": {},
     "output_type": "execute_result"
    }
   ],
   "source": [
    "df['FormalEducation'].value_counts()/df.shape[0] # about 65% of survey participants have at least a bachelor's degree"
   ]
  },
  {
   "cell_type": "code",
   "execution_count": 13,
   "metadata": {},
   "outputs": [
    {
     "data": {
      "text/plain": [
       "0.0"
      ]
     },
     "execution_count": 13,
     "metadata": {},
     "output_type": "execute_result"
    }
   ],
   "source": [
    "df['FormalEducation'].isnull().mean() # no missing values in the Formal Education column"
   ]
  },
  {
   "cell_type": "code",
   "execution_count": 14,
   "metadata": {},
   "outputs": [],
   "source": [
    "def high_education(ed_string):\n",
    "    \n",
    "    '''\n",
    "    INPUTS\n",
    "    \n",
    "    ed_string - input string to check for substring\n",
    "    \n",
    "    Description\n",
    "    \n",
    "    This function tries to categorize each entry string based on education level\n",
    "    \n",
    "    '''\n",
    "    \n",
    "    if ed_string in (\"Master's degree\",\"Doctoral degree\",\"Professional degree\"):\n",
    "        return 1\n",
    "    else:\n",
    "        return 0"
   ]
  },
  {
   "cell_type": "code",
   "execution_count": 15,
   "metadata": {},
   "outputs": [],
   "source": [
    "# Categorizing each entry into 2 major groups\n",
    "df['EducationLevel'] = df['FormalEducation'].apply(high_education)"
   ]
  },
  {
   "cell_type": "code",
   "execution_count": 16,
   "metadata": {},
   "outputs": [],
   "source": [
    "high_ed = df[df['EducationLevel'] == 1]     # dataframe with only participants with higher education\n",
    "not_high_ed = df[df['EducationLevel'] == 0] # dataframe with only participants without higher education"
   ]
  },
  {
   "cell_type": "code",
   "execution_count": 17,
   "metadata": {},
   "outputs": [],
   "source": [
    "df_study1 = high_ed['CousinEducation'].value_counts().reset_index()\n",
    "df_study0 = not_high_ed['CousinEducation'].value_counts().reset_index()"
   ]
  },
  {
   "cell_type": "markdown",
   "metadata": {},
   "source": [
    "We see from the below that those with higher education suggested master's degree twice more than those without at least a master's degree\n",
    "\n",
    "However we see that for both groups online courses are still the popular choice"
   ]
  },
  {
   "cell_type": "code",
   "execution_count": 18,
   "metadata": {},
   "outputs": [
    {
     "data": {
      "text/html": [
       "<style  type=\"text/css\" >\n",
       "#T_c04feae8_5a8b_11eb_bcb1_98af65e7b0c0row0_col2{\n",
       "            width:  10em;\n",
       "             height:  80%;\n",
       "            background:  linear-gradient(90deg, transparent 13.7%, #d65f5f 13.7%, #d65f5f 23.8%, transparent 23.8%);\n",
       "        }#T_c04feae8_5a8b_11eb_bcb1_98af65e7b0c0row1_col2{\n",
       "            width:  10em;\n",
       "             height:  80%;\n",
       "            background:  linear-gradient(90deg, transparent 23.8%, #5fba7d 23.8%, #5fba7d 28.6%, transparent 28.6%);\n",
       "        }#T_c04feae8_5a8b_11eb_bcb1_98af65e7b0c0row2_col2{\n",
       "            width:  10em;\n",
       "             height:  80%;\n",
       "            background:  linear-gradient(90deg, transparent 19.0%, #d65f5f 19.0%, #d65f5f 23.8%, transparent 23.8%);\n",
       "        }#T_c04feae8_5a8b_11eb_bcb1_98af65e7b0c0row3_col2{\n",
       "            width:  10em;\n",
       "             height:  80%;\n",
       "            background:  linear-gradient(90deg, transparent 18.9%, #d65f5f 18.9%, #d65f5f 23.8%, transparent 23.8%);\n",
       "        }#T_c04feae8_5a8b_11eb_bcb1_98af65e7b0c0row4_col2{\n",
       "            width:  10em;\n",
       "             height:  80%;\n",
       "            background:  linear-gradient(90deg, transparent 23.8%, #5fba7d 23.8%, #5fba7d 31.0%, transparent 31.0%);\n",
       "        }#T_c04feae8_5a8b_11eb_bcb1_98af65e7b0c0row5_col2{\n",
       "            width:  10em;\n",
       "             height:  80%;\n",
       "            background:  linear-gradient(90deg, transparent 23.8%, #5fba7d 23.8%, #5fba7d 24.0%, transparent 24.0%);\n",
       "        }#T_c04feae8_5a8b_11eb_bcb1_98af65e7b0c0row6_col2{\n",
       "            width:  10em;\n",
       "             height:  80%;\n",
       "            background:  linear-gradient(90deg,#d65f5f 23.8%, transparent 23.8%);\n",
       "        }#T_c04feae8_5a8b_11eb_bcb1_98af65e7b0c0row7_col2{\n",
       "            width:  10em;\n",
       "             height:  80%;\n",
       "            background:  linear-gradient(90deg, transparent 23.8%, #5fba7d 23.8%, #5fba7d 100.0%, transparent 100.0%);\n",
       "        }#T_c04feae8_5a8b_11eb_bcb1_98af65e7b0c0row8_col2{\n",
       "            width:  10em;\n",
       "             height:  80%;\n",
       "            background:  linear-gradient(90deg, transparent 23.8%, #5fba7d 23.8%, #5fba7d 26.5%, transparent 26.5%);\n",
       "        }#T_c04feae8_5a8b_11eb_bcb1_98af65e7b0c0row9_col2,#T_c04feae8_5a8b_11eb_bcb1_98af65e7b0c0row11_col2{\n",
       "            width:  10em;\n",
       "             height:  80%;\n",
       "            background:  linear-gradient(90deg, transparent 9.5%, #d65f5f 9.5%, #d65f5f 23.8%, transparent 23.8%);\n",
       "        }#T_c04feae8_5a8b_11eb_bcb1_98af65e7b0c0row10_col2{\n",
       "            width:  10em;\n",
       "             height:  80%;\n",
       "            background:  linear-gradient(90deg, transparent 3.5%, #d65f5f 3.5%, #d65f5f 23.8%, transparent 23.8%);\n",
       "        }#T_c04feae8_5a8b_11eb_bcb1_98af65e7b0c0row12_col2{\n",
       "            width:  10em;\n",
       "             height:  80%;\n",
       "            background:  linear-gradient(90deg, transparent 23.8%, #5fba7d 23.8%, #5fba7d 24.9%, transparent 24.9%);\n",
       "        }</style><table id=\"T_c04feae8_5a8b_11eb_bcb1_98af65e7b0c0\" ><thead>    <tr>        <th class=\"blank level0\" ></th>        <th class=\"col_heading level0 col0\" >ed_1_perc</th>        <th class=\"col_heading level0 col1\" >ed_0_perc</th>        <th class=\"col_heading level0 col2\" >Diff_HigherEd_Vals</th>    </tr>    <tr>        <th class=\"index_name level0\" >index</th>        <th class=\"blank\" ></th>        <th class=\"blank\" ></th>        <th class=\"blank\" ></th>    </tr></thead><tbody>\n",
       "                <tr>\n",
       "                        <th id=\"T_c04feae8_5a8b_11eb_bcb1_98af65e7b0c0level0_row0\" class=\"row_heading level0 row0\" >Take online courses</th>\n",
       "                        <td id=\"T_c04feae8_5a8b_11eb_bcb1_98af65e7b0c0row0_col0\" class=\"data row0 col0\" >0.206234</td>\n",
       "                        <td id=\"T_c04feae8_5a8b_11eb_bcb1_98af65e7b0c0row0_col1\" class=\"data row0 col1\" >0.210548</td>\n",
       "                        <td id=\"T_c04feae8_5a8b_11eb_bcb1_98af65e7b0c0row0_col2\" class=\"data row0 col2\" >-0.004314</td>\n",
       "            </tr>\n",
       "            <tr>\n",
       "                        <th id=\"T_c04feae8_5a8b_11eb_bcb1_98af65e7b0c0level0_row1\" class=\"row_heading level0 row1\" >Buy books and work through the exercises</th>\n",
       "                        <td id=\"T_c04feae8_5a8b_11eb_bcb1_98af65e7b0c0row1_col0\" class=\"data row1 col0\" >0.162959</td>\n",
       "                        <td id=\"T_c04feae8_5a8b_11eb_bcb1_98af65e7b0c0row1_col1\" class=\"data row1 col1\" >0.160867</td>\n",
       "                        <td id=\"T_c04feae8_5a8b_11eb_bcb1_98af65e7b0c0row1_col2\" class=\"data row1 col2\" >0.002092</td>\n",
       "            </tr>\n",
       "            <tr>\n",
       "                        <th id=\"T_c04feae8_5a8b_11eb_bcb1_98af65e7b0c0level0_row2\" class=\"row_heading level0 row2\" >Part-time/evening courses</th>\n",
       "                        <td id=\"T_c04feae8_5a8b_11eb_bcb1_98af65e7b0c0row2_col0\" class=\"data row2 col0\" >0.101736</td>\n",
       "                        <td id=\"T_c04feae8_5a8b_11eb_bcb1_98af65e7b0c0row2_col1\" class=\"data row2 col1\" >0.103791</td>\n",
       "                        <td id=\"T_c04feae8_5a8b_11eb_bcb1_98af65e7b0c0row2_col2\" class=\"data row2 col2\" >-0.002055</td>\n",
       "            </tr>\n",
       "            <tr>\n",
       "                        <th id=\"T_c04feae8_5a8b_11eb_bcb1_98af65e7b0c0level0_row3\" class=\"row_heading level0 row3\" >Contribute to open source</th>\n",
       "                        <td id=\"T_c04feae8_5a8b_11eb_bcb1_98af65e7b0c0row3_col0\" class=\"data row3 col0\" >0.100409</td>\n",
       "                        <td id=\"T_c04feae8_5a8b_11eb_bcb1_98af65e7b0c0row3_col1\" class=\"data row3 col1\" >0.102513</td>\n",
       "                        <td id=\"T_c04feae8_5a8b_11eb_bcb1_98af65e7b0c0row3_col2\" class=\"data row3 col2\" >-0.002104</td>\n",
       "            </tr>\n",
       "            <tr>\n",
       "                        <th id=\"T_c04feae8_5a8b_11eb_bcb1_98af65e7b0c0level0_row4\" class=\"row_heading level0 row4\" >Bootcamp</th>\n",
       "                        <td id=\"T_c04feae8_5a8b_11eb_bcb1_98af65e7b0c0row4_col0\" class=\"data row4 col0\" >0.074762</td>\n",
       "                        <td id=\"T_c04feae8_5a8b_11eb_bcb1_98af65e7b0c0row4_col1\" class=\"data row4 col1\" >0.071677</td>\n",
       "                        <td id=\"T_c04feae8_5a8b_11eb_bcb1_98af65e7b0c0row4_col2\" class=\"data row4 col2\" >0.003085</td>\n",
       "            </tr>\n",
       "            <tr>\n",
       "                        <th id=\"T_c04feae8_5a8b_11eb_bcb1_98af65e7b0c0level0_row5\" class=\"row_heading level0 row5\" >Return to college</th>\n",
       "                        <td id=\"T_c04feae8_5a8b_11eb_bcb1_98af65e7b0c0row5_col0\" class=\"data row5 col0\" >0.068975</td>\n",
       "                        <td id=\"T_c04feae8_5a8b_11eb_bcb1_98af65e7b0c0row5_col1\" class=\"data row5 col1\" >0.068898</td>\n",
       "                        <td id=\"T_c04feae8_5a8b_11eb_bcb1_98af65e7b0c0row5_col2\" class=\"data row5 col2\" >0.000077</td>\n",
       "            </tr>\n",
       "            <tr>\n",
       "                        <th id=\"T_c04feae8_5a8b_11eb_bcb1_98af65e7b0c0level0_row6\" class=\"row_heading level0 row6\" >Conferences/meet-ups</th>\n",
       "                        <td id=\"T_c04feae8_5a8b_11eb_bcb1_98af65e7b0c0row6_col0\" class=\"data row6 col0\" >0.064461</td>\n",
       "                        <td id=\"T_c04feae8_5a8b_11eb_bcb1_98af65e7b0c0row6_col1\" class=\"data row6 col1\" >0.074679</td>\n",
       "                        <td id=\"T_c04feae8_5a8b_11eb_bcb1_98af65e7b0c0row6_col2\" class=\"data row6 col2\" >-0.010218</td>\n",
       "            </tr>\n",
       "            <tr>\n",
       "                        <th id=\"T_c04feae8_5a8b_11eb_bcb1_98af65e7b0c0level0_row7\" class=\"row_heading level0 row7\" >Master's degree</th>\n",
       "                        <td id=\"T_c04feae8_5a8b_11eb_bcb1_98af65e7b0c0row7_col0\" class=\"data row7 col0\" >0.060532</td>\n",
       "                        <td id=\"T_c04feae8_5a8b_11eb_bcb1_98af65e7b0c0row7_col1\" class=\"data row7 col1\" >0.027778</td>\n",
       "                        <td id=\"T_c04feae8_5a8b_11eb_bcb1_98af65e7b0c0row7_col2\" class=\"data row7 col2\" >0.032754</td>\n",
       "            </tr>\n",
       "            <tr>\n",
       "                        <th id=\"T_c04feae8_5a8b_11eb_bcb1_98af65e7b0c0level0_row8\" class=\"row_heading level0 row8\" >Get a job as a QA tester</th>\n",
       "                        <td id=\"T_c04feae8_5a8b_11eb_bcb1_98af65e7b0c0row8_col0\" class=\"data row8 col0\" >0.047257</td>\n",
       "                        <td id=\"T_c04feae8_5a8b_11eb_bcb1_98af65e7b0c0row8_col1\" class=\"data row8 col1\" >0.046068</td>\n",
       "                        <td id=\"T_c04feae8_5a8b_11eb_bcb1_98af65e7b0c0row8_col2\" class=\"data row8 col2\" >0.001190</td>\n",
       "            </tr>\n",
       "            <tr>\n",
       "                        <th id=\"T_c04feae8_5a8b_11eb_bcb1_98af65e7b0c0level0_row9\" class=\"row_heading level0 row9\" >Participate in online coding competitions</th>\n",
       "                        <td id=\"T_c04feae8_5a8b_11eb_bcb1_98af65e7b0c0row9_col0\" class=\"data row9 col0\" >0.045027</td>\n",
       "                        <td id=\"T_c04feae8_5a8b_11eb_bcb1_98af65e7b0c0row9_col1\" class=\"data row9 col1\" >0.051182</td>\n",
       "                        <td id=\"T_c04feae8_5a8b_11eb_bcb1_98af65e7b0c0row9_col2\" class=\"data row9 col2\" >-0.006155</td>\n",
       "            </tr>\n",
       "            <tr>\n",
       "                        <th id=\"T_c04feae8_5a8b_11eb_bcb1_98af65e7b0c0level0_row10\" class=\"row_heading level0 row10\" >Participate in hackathons</th>\n",
       "                        <td id=\"T_c04feae8_5a8b_11eb_bcb1_98af65e7b0c0row10_col0\" class=\"data row10 col0\" >0.031275</td>\n",
       "                        <td id=\"T_c04feae8_5a8b_11eb_bcb1_98af65e7b0c0row10_col1\" class=\"data row10 col1\" >0.039990</td>\n",
       "                        <td id=\"T_c04feae8_5a8b_11eb_bcb1_98af65e7b0c0row10_col2\" class=\"data row10 col2\" >-0.008715</td>\n",
       "            </tr>\n",
       "            <tr>\n",
       "                        <th id=\"T_c04feae8_5a8b_11eb_bcb1_98af65e7b0c0level0_row11\" class=\"row_heading level0 row11\" >Other</th>\n",
       "                        <td id=\"T_c04feae8_5a8b_11eb_bcb1_98af65e7b0c0row11_col0\" class=\"data row11 col0\" >0.027717</td>\n",
       "                        <td id=\"T_c04feae8_5a8b_11eb_bcb1_98af65e7b0c0row11_col1\" class=\"data row11 col1\" >0.033837</td>\n",
       "                        <td id=\"T_c04feae8_5a8b_11eb_bcb1_98af65e7b0c0row11_col2\" class=\"data row11 col2\" >-0.006120</td>\n",
       "            </tr>\n",
       "            <tr>\n",
       "                        <th id=\"T_c04feae8_5a8b_11eb_bcb1_98af65e7b0c0level0_row12\" class=\"row_heading level0 row12\" >None of these</th>\n",
       "                        <td id=\"T_c04feae8_5a8b_11eb_bcb1_98af65e7b0c0row12_col0\" class=\"data row12 col0\" >0.008655</td>\n",
       "                        <td id=\"T_c04feae8_5a8b_11eb_bcb1_98af65e7b0c0row12_col1\" class=\"data row12 col1\" >0.008172</td>\n",
       "                        <td id=\"T_c04feae8_5a8b_11eb_bcb1_98af65e7b0c0row12_col2\" class=\"data row12 col2\" >0.000483</td>\n",
       "            </tr>\n",
       "    </tbody></table>"
      ],
      "text/plain": [
       "<pandas.io.formats.style.Styler at 0x1519b29b708>"
      ]
     },
     "execution_count": 18,
     "metadata": {},
     "output_type": "execute_result"
    }
   ],
   "source": [
    "ed_1_perc = count_and_plot(df_study1,'index','CousinEducation',ed_methods,plot=False)\n",
    "ed_0_perc = count_and_plot(df_study0,'index','CousinEducation',ed_methods,plot=False)\n",
    "comp_df = pd.merge(ed_1_perc, ed_0_perc, left_index=True, right_index=True)\n",
    "comp_df.columns = ['ed_1_perc', 'ed_0_perc']\n",
    "comp_df['Diff_HigherEd_Vals'] = comp_df['ed_1_perc'] - comp_df['ed_0_perc']\n",
    "comp_df.style.bar(subset=['Diff_HigherEd_Vals'], align='mid', color=['#d65f5f', '#5fba7d'])"
   ]
  },
  {
   "cell_type": "code",
   "execution_count": null,
   "metadata": {},
   "outputs": [],
   "source": []
  }
 ],
 "metadata": {
  "kernelspec": {
   "display_name": "Python 3",
   "language": "python",
   "name": "python3"
  },
  "language_info": {
   "codemirror_mode": {
    "name": "ipython",
    "version": 3
   },
   "file_extension": ".py",
   "mimetype": "text/x-python",
   "name": "python",
   "nbconvert_exporter": "python",
   "pygments_lexer": "ipython3",
   "version": "3.7.9"
  }
 },
 "nbformat": 4,
 "nbformat_minor": 4
}
